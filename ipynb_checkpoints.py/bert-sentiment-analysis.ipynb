{
 "cells": [
  {
   "cell_type": "code",
   "execution_count": 1,
   "metadata": {
    "_cell_guid": "b1076dfc-b9ad-4769-8c92-a6c4dae69d19",
    "_uuid": "8f2839f25d086af736a60e9eeb907d3b93b6e0e5",
    "execution": {
     "iopub.execute_input": "2022-02-17T08:07:01.749428Z",
     "iopub.status.busy": "2022-02-17T08:07:01.748784Z",
     "iopub.status.idle": "2022-02-17T08:07:07.967574Z",
     "shell.execute_reply": "2022-02-17T08:07:07.966187Z",
     "shell.execute_reply.started": "2022-02-17T07:25:48.219024Z"
    },
    "papermill": {
     "duration": 6.234423,
     "end_time": "2022-02-17T08:07:07.967700",
     "exception": false,
     "start_time": "2022-02-17T08:07:01.733277",
     "status": "completed"
    },
    "tags": []
   },
   "outputs": [
    {
     "name": "stderr",
     "output_type": "stream",
     "text": [
      "\u001b[34m\u001b[1mwandb\u001b[0m: \u001b[33mWARNING\u001b[0m W&B installed but not logged in.  Run `wandb login` or set the WANDB_API_KEY env variable.\n"
     ]
    }
   ],
   "source": [
    "import os\n",
    "import numpy as np \n",
    "import pandas as pd \n",
    "import torch\n",
    "import torch.nn as nn\n",
    "import transformers\n",
    "from transformers import AdamW\n",
    "from transformers import get_linear_schedule_with_warmup\n",
    "from sklearn import model_selection\n",
    "from sklearn import metrics\n",
    "import seaborn as sns\n",
    "import time\n",
    "from tqdm import tqdm"
   ]
  },
  {
   "cell_type": "markdown",
   "metadata": {
    "papermill": {
     "duration": 0.016802,
     "end_time": "2022-02-17T08:07:08.005382",
     "exception": false,
     "start_time": "2022-02-17T08:07:07.988580",
     "status": "completed"
    },
    "tags": []
   },
   "source": [
    "## Config"
   ]
  },
  {
   "cell_type": "code",
   "execution_count": 2,
   "metadata": {
    "_cell_guid": "79c7e3d0-c299-4dcb-8224-4455121ee9b0",
    "_uuid": "d629ff2d2480ee46fbb7e2d37f6b5fab8052498a",
    "execution": {
     "iopub.execute_input": "2022-02-17T08:07:08.044361Z",
     "iopub.status.busy": "2022-02-17T08:07:08.043506Z",
     "iopub.status.idle": "2022-02-17T08:07:08.099632Z",
     "shell.execute_reply": "2022-02-17T08:07:08.098698Z",
     "shell.execute_reply.started": "2022-02-17T07:25:54.625591Z"
    },
    "papermill": {
     "duration": 0.078197,
     "end_time": "2022-02-17T08:07:08.099749",
     "exception": false,
     "start_time": "2022-02-17T08:07:08.021552",
     "status": "completed"
    },
    "tags": []
   },
   "outputs": [],
   "source": [
    "class config():\n",
    "    MAX_LEN = 512\n",
    "    TRAIN_BATCH_SIZE = 4\n",
    "    VALID_BATCH_SIZE = 4\n",
    "    EPOCHS = 5\n",
    "    BERT_PATH = '../input/bert-base-uncased'\n",
    "    MODEL_PATH = 'model.bin'\n",
    "    TRAINING_FILE = \"../input/amazon-dataset-csv-generator/PolynomialInternshipDrive2022.csv\"\n",
    "    TOKENIZER = transformers.BertTokenizer.from_pretrained(BERT_PATH, do_lower_case=True)"
   ]
  },
  {
   "cell_type": "markdown",
   "metadata": {
    "papermill": {
     "duration": 0.014731,
     "end_time": "2022-02-17T08:07:08.127612",
     "exception": false,
     "start_time": "2022-02-17T08:07:08.112881",
     "status": "completed"
    },
    "tags": []
   },
   "source": [
    "## Model"
   ]
  },
  {
   "cell_type": "code",
   "execution_count": 3,
   "metadata": {
    "execution": {
     "iopub.execute_input": "2022-02-17T08:07:08.158617Z",
     "iopub.status.busy": "2022-02-17T08:07:08.157830Z",
     "iopub.status.idle": "2022-02-17T08:07:08.160748Z",
     "shell.execute_reply": "2022-02-17T08:07:08.160148Z",
     "shell.execute_reply.started": "2022-02-17T07:25:54.678148Z"
    },
    "papermill": {
     "duration": 0.01902,
     "end_time": "2022-02-17T08:07:08.160858",
     "exception": false,
     "start_time": "2022-02-17T08:07:08.141838",
     "status": "completed"
    },
    "tags": []
   },
   "outputs": [],
   "source": [
    "class BERTBaseUncased(nn.Module):\n",
    "    def __init__(self):\n",
    "        super(BERTBaseUncased, self).__init__()\n",
    "        self.bert       = transformers.BertModel.from_pretrained(config.BERT_PATH)\n",
    "        self.bert_drop  = nn.Dropout(0.3)\n",
    "        self.out        = nn.Linear(768, 1)\n",
    "\n",
    "    def forward(self, ids, mask, token_type_ids):\n",
    "        out1, out2 = self.bert(ids, attention_mask=mask, token_type_ids=token_type_ids)\n",
    "        bo         = self.bert_drop(out2)\n",
    "        output     = self.out(bo)\n",
    "        return output"
   ]
  },
  {
   "cell_type": "markdown",
   "metadata": {
    "papermill": {
     "duration": 0.009204,
     "end_time": "2022-02-17T08:07:08.179599",
     "exception": false,
     "start_time": "2022-02-17T08:07:08.170395",
     "status": "completed"
    },
    "tags": []
   },
   "source": [
    "## Dataset or DataLoader"
   ]
  },
  {
   "cell_type": "code",
   "execution_count": 4,
   "metadata": {
    "execution": {
     "iopub.execute_input": "2022-02-17T08:07:08.208022Z",
     "iopub.status.busy": "2022-02-17T08:07:08.207311Z",
     "iopub.status.idle": "2022-02-17T08:07:08.210078Z",
     "shell.execute_reply": "2022-02-17T08:07:08.209564Z",
     "shell.execute_reply.started": "2022-02-17T07:25:54.691897Z"
    },
    "papermill": {
     "duration": 0.021137,
     "end_time": "2022-02-17T08:07:08.210163",
     "exception": false,
     "start_time": "2022-02-17T08:07:08.189026",
     "status": "completed"
    },
    "tags": []
   },
   "outputs": [],
   "source": [
    "class BERTDataset:\n",
    "    def __init__(self,  review, target):\n",
    "        self.review    = review\n",
    "        self.target    = target\n",
    "        self.tokenizer = config.TOKENIZER\n",
    "        self.max_len   = config.MAX_LEN\n",
    "\n",
    "    def __len__(self):\n",
    "        return len(self.review)\n",
    "\n",
    "    def __getitem__(self, item):\n",
    "        review = str(self.review[item])\n",
    "        review = ' '.join(review.split())\n",
    "\n",
    "        inputs = self.tokenizer.encode_plus(review, None, add_special_tokens=True, max_length=self.max_len, pad_to_max_length=True)\n",
    "        ids = inputs['input_ids']\n",
    "        mask = inputs['attention_mask']\n",
    "        token_type_ids = inputs['token_type_ids']\n",
    "\n",
    "        return {\n",
    "            'ids': torch.tensor(ids, dtype=torch.long),\n",
    "            'mask': torch.tensor(mask, dtype=torch.long),\n",
    "            'token_type_ids': torch.tensor(token_type_ids, dtype=torch.long),\n",
    "            'targets': torch.tensor(self.target[item], dtype=torch.float)\n",
    "        }"
   ]
  },
  {
   "cell_type": "markdown",
   "metadata": {
    "papermill": {
     "duration": 0.009121,
     "end_time": "2022-02-17T08:07:08.228769",
     "exception": false,
     "start_time": "2022-02-17T08:07:08.219648",
     "status": "completed"
    },
    "tags": []
   },
   "source": [
    "## Engine"
   ]
  },
  {
   "cell_type": "code",
   "execution_count": 5,
   "metadata": {
    "execution": {
     "iopub.execute_input": "2022-02-17T08:07:08.255420Z",
     "iopub.status.busy": "2022-02-17T08:07:08.254545Z",
     "iopub.status.idle": "2022-02-17T08:07:08.257330Z",
     "shell.execute_reply": "2022-02-17T08:07:08.256866Z",
     "shell.execute_reply.started": "2022-02-17T07:25:54.707946Z"
    },
    "papermill": {
     "duration": 0.018451,
     "end_time": "2022-02-17T08:07:08.257438",
     "exception": false,
     "start_time": "2022-02-17T08:07:08.238987",
     "status": "completed"
    },
    "tags": []
   },
   "outputs": [],
   "source": [
    "def loss_fn(outputs, targets):\n",
    "    return nn.BCEWithLogitsLoss()(outputs, targets.view(-1, 1))"
   ]
  },
  {
   "cell_type": "code",
   "execution_count": 6,
   "metadata": {
    "execution": {
     "iopub.execute_input": "2022-02-17T08:07:08.288748Z",
     "iopub.status.busy": "2022-02-17T08:07:08.286860Z",
     "iopub.status.idle": "2022-02-17T08:07:08.289532Z",
     "shell.execute_reply": "2022-02-17T08:07:08.290092Z",
     "shell.execute_reply.started": "2022-02-17T07:25:54.716843Z"
    },
    "papermill": {
     "duration": 0.022543,
     "end_time": "2022-02-17T08:07:08.290212",
     "exception": false,
     "start_time": "2022-02-17T08:07:08.267669",
     "status": "completed"
    },
    "tags": []
   },
   "outputs": [],
   "source": [
    "def train_fn(data_loader, model, optimizer, device, scheduler):\n",
    "    model.train()\n",
    "\n",
    "    for bi, d in tqdm(enumerate(data_loader), total=len(data_loader)):\n",
    "        ids = d['ids']\n",
    "        token_type_ids = d['token_type_ids']\n",
    "        mask = d['mask']\n",
    "        targets = d['targets']\n",
    "\n",
    "        ids = ids.to(device, dtype=torch.long)\n",
    "        token_type_ids = token_type_ids.to(device, dtype=torch.long)\n",
    "        mask = mask.to(device, dtype=torch.long)\n",
    "        targets = targets.to(device, dtype=torch.float)\n",
    "\n",
    "        optimizer.zero_grad()\n",
    "        outputs = model(ids=ids, mask=mask, token_type_ids=token_type_ids)\n",
    "\n",
    "        loss = loss_fn(outputs, targets)\n",
    "        loss.backward()\n",
    "\n",
    "        optimizer.step()\n",
    "        scheduler.step()"
   ]
  },
  {
   "cell_type": "code",
   "execution_count": 7,
   "metadata": {
    "execution": {
     "iopub.execute_input": "2022-02-17T08:07:08.322197Z",
     "iopub.status.busy": "2022-02-17T08:07:08.321129Z",
     "iopub.status.idle": "2022-02-17T08:07:08.323027Z",
     "shell.execute_reply": "2022-02-17T08:07:08.323547Z",
     "shell.execute_reply.started": "2022-02-17T07:25:54.730851Z"
    },
    "papermill": {
     "duration": 0.02313,
     "end_time": "2022-02-17T08:07:08.323672",
     "exception": false,
     "start_time": "2022-02-17T08:07:08.300542",
     "status": "completed"
    },
    "tags": []
   },
   "outputs": [],
   "source": [
    "def eval_fn(data_loader, model, device):\n",
    "    model.eval()\n",
    "    fin_targets = []\n",
    "    fin_outputs = []\n",
    "\n",
    "    with torch.no_grad():\n",
    "        for bi, d in tqdm(enumerate(data_loader), total=len(data_loader)):\n",
    "            ids            = d['ids']\n",
    "            token_type_ids = d['token_type_ids']\n",
    "            mask           = d['mask']\n",
    "            targets        = d['targets']\n",
    "\n",
    "            ids            = ids.to(device, dtype=torch.long)\n",
    "            token_type_ids = token_type_ids.to(device, dtype=torch.long)\n",
    "            mask           = mask.to(device, dtype=torch.long)\n",
    "            targets        = targets.to(device, dtype=torch.float)\n",
    "\n",
    "            outputs = model(ids=ids, mask=mask, token_type_ids=token_type_ids)\n",
    "\n",
    "            fin_targets.extend(targets.cpu().detach().numpy().tolist())\n",
    "            fin_outputs.extend(torch.sigmoid(outputs).cpu().detach().numpy().tolist())\n",
    "\n",
    "    return fin_outputs, fin_targets"
   ]
  },
  {
   "cell_type": "code",
   "execution_count": 8,
   "metadata": {
    "execution": {
     "iopub.execute_input": "2022-02-17T08:07:08.351219Z",
     "iopub.status.busy": "2022-02-17T08:07:08.350653Z",
     "iopub.status.idle": "2022-02-17T08:07:08.368088Z",
     "shell.execute_reply": "2022-02-17T08:07:08.367620Z",
     "shell.execute_reply.started": "2022-02-17T07:25:54.747174Z"
    },
    "papermill": {
     "duration": 0.0344,
     "end_time": "2022-02-17T08:07:08.368183",
     "exception": false,
     "start_time": "2022-02-17T08:07:08.333783",
     "status": "completed"
    },
    "tags": []
   },
   "outputs": [],
   "source": [
    "dfx = pd.read_csv('../input/amazon-dataset-csv-generator/PolynomialInternshipDrive2022.csv', nrows = 500)"
   ]
  },
  {
   "cell_type": "markdown",
   "metadata": {
    "papermill": {
     "duration": 0.009985,
     "end_time": "2022-02-17T08:07:08.389102",
     "exception": false,
     "start_time": "2022-02-17T08:07:08.379117",
     "status": "completed"
    },
    "tags": []
   },
   "source": [
    "## Train"
   ]
  },
  {
   "cell_type": "code",
   "execution_count": 9,
   "metadata": {
    "execution": {
     "iopub.execute_input": "2022-02-17T08:07:08.429131Z",
     "iopub.status.busy": "2022-02-17T08:07:08.428611Z",
     "iopub.status.idle": "2022-02-17T08:10:04.358289Z",
     "shell.execute_reply": "2022-02-17T08:10:04.358767Z",
     "shell.execute_reply.started": "2022-02-17T07:25:54.767933Z"
    },
    "papermill": {
     "duration": 175.959539,
     "end_time": "2022-02-17T08:10:04.358906",
     "exception": false,
     "start_time": "2022-02-17T08:07:08.399367",
     "status": "completed"
    },
    "tags": []
   },
   "outputs": [
    {
     "name": "stderr",
     "output_type": "stream",
     "text": [
      "100%|██████████| 100/100 [00:24<00:00,  4.03it/s]\n",
      "100%|██████████| 100/100 [00:07<00:00, 13.15it/s]\n"
     ]
    },
    {
     "name": "stdout",
     "output_type": "stream",
     "text": [
      "Accuracy score =  0.12\n"
     ]
    },
    {
     "name": "stderr",
     "output_type": "stream",
     "text": [
      "100%|██████████| 100/100 [00:24<00:00,  4.11it/s]\n",
      "100%|██████████| 100/100 [00:07<00:00, 13.16it/s]\n"
     ]
    },
    {
     "name": "stdout",
     "output_type": "stream",
     "text": [
      "Accuracy score =  0.12\n"
     ]
    },
    {
     "name": "stderr",
     "output_type": "stream",
     "text": [
      "100%|██████████| 100/100 [00:24<00:00,  4.12it/s]\n",
      "100%|██████████| 100/100 [00:07<00:00, 13.13it/s]\n"
     ]
    },
    {
     "name": "stdout",
     "output_type": "stream",
     "text": [
      "Accuracy score =  0.12\n"
     ]
    },
    {
     "name": "stderr",
     "output_type": "stream",
     "text": [
      "100%|██████████| 100/100 [00:24<00:00,  4.13it/s]\n",
      "100%|██████████| 100/100 [00:07<00:00, 13.22it/s]\n"
     ]
    },
    {
     "name": "stdout",
     "output_type": "stream",
     "text": [
      "Accuracy score =  0.12\n"
     ]
    },
    {
     "name": "stderr",
     "output_type": "stream",
     "text": [
      "100%|██████████| 100/100 [00:24<00:00,  4.12it/s]\n",
      "100%|██████████| 100/100 [00:07<00:00, 13.24it/s]\n"
     ]
    },
    {
     "name": "stdout",
     "output_type": "stream",
     "text": [
      "Accuracy score =  0.12\n"
     ]
    },
    {
     "data": {
      "image/png": "[encoded data removed]",
      "text/plain": [
       "<Figure size 432x288 with 6 Axes>"
      ]
     },
     "metadata": {
      "needs_background": "light"
     },
     "output_type": "display_data"
    }
   ],
   "source": [
    "\n",
    "\n",
    "df_train, df_valid = model_selection.train_test_split(dfx, test_size=0.2, random_state=42, stratify=dfx.overall.values)\n",
    "df_train = df_train.reset_index(drop=True)\n",
    "df_valid = df_valid.reset_index(drop=True)\n",
    "\n",
    "train_dataset = BERTDataset(\n",
    "    review=df_train.review.values,\n",
    "    target=df_train.overall.values\n",
    ")\n",
    "\n",
    "train_data_loader = torch.utils.data.DataLoader(\n",
    "    train_dataset,\n",
    "    batch_size=config.TRAIN_BATCH_SIZE,\n",
    "    num_workers=4 # (4) in windows gotta be 0\n",
    ")\n",
    "\n",
    "valid_dataset = BERTDataset(\n",
    "    review=df_valid.review.values,\n",
    "    target=df_valid.overall.values\n",
    ")\n",
    "\n",
    "valid_data_loader = torch.utils.data.DataLoader(\n",
    "    train_dataset,\n",
    "    batch_size=config.VALID_BATCH_SIZE,\n",
    "    num_workers=1 # (1)\n",
    ")\n",
    "\n",
    "device = torch.device('cuda')\n",
    "model = BERTBaseUncased()\n",
    "model.to(device)\n",
    "\n",
    "param_optimizer = list(model.named_parameters())\n",
    "no_decay = ['bias', 'LayerNorm.bias', 'LayerNorm.weight']\n",
    "optimizer_parameters = [\n",
    "    {'params': [p for n, p in param_optimizer if not any(nd in n for nd in no_decay)], 'weight_decay': 0.001},\n",
    "    {'params': [p for n, p in param_optimizer if any(nd in n for nd in no_decay)], 'weight_decay': 0.0}\n",
    "]\n",
    "\n",
    "num_train_steps = int(len(df_train) / config.TRAIN_BATCH_SIZE * config.EPOCHS)\n",
    "optimizer = AdamW(optimizer_parameters, lr=3e-5)\n",
    "scheduler = get_linear_schedule_with_warmup(\n",
    "    optimizer,\n",
    "    num_warmup_steps=0,\n",
    "    num_training_steps=num_train_steps\n",
    "\n",
    ")\n",
    "\n",
    "\n",
    "best_acc = 0\n",
    "\n",
    "for epoch in range(config.EPOCHS):\n",
    "    train_fn(train_data_loader, model, optimizer, device, scheduler)\n",
    "    outputs, targets = eval_fn(valid_data_loader, model, device)\n",
    "    outputs = np.array(outputs) >= 0.5\n",
    "\n",
    "    acc = metrics.accuracy_score(targets, outputs) \n",
    "    print('Accuracy score = ', acc)\n",
    "    confusion_matrix = metrics.confusion_matrix(outputs, targets)\n",
    "\n",
    "    sns.heatmap(confusion_matrix, annot=True)\n",
    "    if acc > best_acc:\n",
    "        torch.save(model.state_dict(), config.MODEL_PATH)\n",
    "        best_acc = acc\n",
    "\n"
   ]
  },
  {
   "cell_type": "code",
   "execution_count": null,
   "metadata": {
    "papermill": {
     "duration": 0.221695,
     "end_time": "2022-02-17T08:10:04.801449",
     "exception": false,
     "start_time": "2022-02-17T08:10:04.579754",
     "status": "completed"
    },
    "tags": []
   },
   "outputs": [],
   "source": []
  }
 ],
 "metadata": {
  "kernelspec": {
   "display_name": "Python 3",
   "language": "python",
   "name": "python3"
  },
  "language_info": {
   "codemirror_mode": {
    "name": "ipython",
    "version": 3
   },
   "file_extension": ".py",
   "mimetype": "text/x-python",
   "name": "python",
   "nbconvert_exporter": "python",
   "pygments_lexer": "ipython3",
   "version": "3.7.6"
  },
  "papermill": {
   "duration": 186.970321,
   "end_time": "2022-02-17T08:10:05.235335",
   "environment_variables": {},
   "exception": null,
   "input_path": "__notebook__.ipynb",
   "output_path": "__notebook__.ipynb",
   "parameters": {},
   "start_time": "2022-02-17T08:06:58.265014",
   "version": "2.1.0"
  }
 },
 "nbformat": 4,
 "nbformat_minor": 4
}
