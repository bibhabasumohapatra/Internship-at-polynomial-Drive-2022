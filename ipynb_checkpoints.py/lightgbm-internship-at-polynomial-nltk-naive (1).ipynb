{
 "cells": [
  {
   "cell_type": "code",
   "execution_count": 1,
   "id": "26e36f11",
   "metadata": {
    "_cell_guid": "b1076dfc-b9ad-4769-8c92-a6c4dae69d19",
    "_uuid": "8f2839f25d086af736a60e9eeb907d3b93b6e0e5",
    "execution": {
     "iopub.execute_input": "2022-02-17T12:34:14.260321Z",
     "iopub.status.busy": "2022-02-17T12:34:14.258820Z",
     "iopub.status.idle": "2022-02-17T12:34:17.726868Z",
     "shell.execute_reply": "2022-02-17T12:34:17.726266Z",
     "shell.execute_reply.started": "2022-02-17T09:33:52.382586Z"
    },
    "papermill": {
     "duration": 3.477703,
     "end_time": "2022-02-17T12:34:17.727022",
     "exception": false,
     "start_time": "2022-02-17T12:34:14.249319",
     "status": "completed"
    },
    "tags": []
   },
   "outputs": [
    {
     "data": {
      "text/html": [
       "<style type='text/css'>\n",
       ".datatable table.frame { margin-bottom: 0; }\n",
       ".datatable table.frame thead { border-bottom: none; }\n",
       ".datatable table.frame tr.coltypes td {  color: #FFFFFF;  line-height: 6px;  padding: 0 0.5em;}\n",
       ".datatable .bool    { background: #DDDD99; }\n",
       ".datatable .object  { background: #565656; }\n",
       ".datatable .int     { background: #5D9E5D; }\n",
       ".datatable .float   { background: #4040CC; }\n",
       ".datatable .str     { background: #CC4040; }\n",
       ".datatable .time    { background: #40CC40; }\n",
       ".datatable .row_index {  background: var(--jp-border-color3);  border-right: 1px solid var(--jp-border-color0);  color: var(--jp-ui-font-color3);  font-size: 9px;}\n",
       ".datatable .frame tbody td { text-align: left; }\n",
       ".datatable .frame tr.coltypes .row_index {  background: var(--jp-border-color0);}\n",
       ".datatable th:nth-child(2) { padding-left: 12px; }\n",
       ".datatable .hellipsis {  color: var(--jp-cell-editor-border-color);}\n",
       ".datatable .vellipsis {  background: var(--jp-layout-color0);  color: var(--jp-cell-editor-border-color);}\n",
       ".datatable .na {  color: var(--jp-cell-editor-border-color);  font-size: 80%;}\n",
       ".datatable .sp {  opacity: 0.25;}\n",
       ".datatable .footer { font-size: 9px; }\n",
       ".datatable .frame_dimensions {  background: var(--jp-border-color3);  border-top: 1px solid var(--jp-border-color0);  color: var(--jp-ui-font-color3);  display: inline-block;  opacity: 0.6;  padding: 1px 10px 1px 5px;}\n",
       "</style>\n"
      ],
      "text/plain": [
       "<IPython.core.display.HTML object>"
      ]
     },
     "metadata": {},
     "output_type": "display_data"
    }
   ],
   "source": [
    "# This Python 3 environment comes with many helpful analytics libraries installed\n",
    "# It is defined by the kaggle/python Docker image: https://github.com/kaggle/docker-python\n",
    "# For example, here's several helpful packages to load\n",
    "\n",
    "import numpy as np # linear algebra\n",
    "import pandas as pd # data processing, CSV file I/O (e.g. pd.read_csv)\n",
    "from nltk.tokenize import word_tokenize\n",
    "from sklearn.feature_extraction.text import CountVectorizer\n",
    "from sklearn import linear_model, naive_bayes\n",
    "from sklearn import metrics\n",
    "from sklearn import model_selection\n",
    "from sklearn.feature_extraction.text import TfidfVectorizer\n",
    "import seaborn as sns\n",
    "import lightgbm as lgb\n",
    "import joblib"
   ]
  },
  {
   "cell_type": "code",
   "execution_count": 2,
   "id": "947b0780",
   "metadata": {
    "execution": {
     "iopub.execute_input": "2022-02-17T12:34:17.745000Z",
     "iopub.status.busy": "2022-02-17T12:34:17.744391Z",
     "iopub.status.idle": "2022-02-17T12:37:24.695426Z",
     "shell.execute_reply": "2022-02-17T12:37:24.694968Z",
     "shell.execute_reply.started": "2022-02-17T09:41:33.38938Z"
    },
    "papermill": {
     "duration": 186.963192,
     "end_time": "2022-02-17T12:37:24.695551",
     "exception": false,
     "start_time": "2022-02-17T12:34:17.732359",
     "status": "completed"
    },
    "tags": []
   },
   "outputs": [
    {
     "name": "stdout",
     "output_type": "stream",
     "text": [
      "Accuracy = 0.6745625\n",
      "\n"
     ]
    },
    {
     "data": {
      "image/png": "[encoded data removed]",
      "text/plain": [
       "<Figure size 432x288 with 2 Axes>"
      ]
     },
     "metadata": {
      "needs_background": "light"
     },
     "output_type": "display_data"
    }
   ],
   "source": [
    "df = pd.read_csv(\"../input/amazon-dataset-csv-generator/PolynomialInternshipDrive2022.csv\", nrows = 80000 )\n",
    "df = df.dropna()\n",
    "train_df, test_df = model_selection.train_test_split(df, test_size=0.2, random_state=42, stratify=df.overall.values)\n",
    "train_df = train_df.reset_index(drop=True)\n",
    "test_df = test_df.reset_index(drop=True)\n",
    "\n",
    "tfidf_vec = TfidfVectorizer(\n",
    " tokenizer=word_tokenize,\n",
    " token_pattern=None\n",
    " )\n",
    "\n",
    "tfidf_vec.fit(train_df.review)\n",
    "\n",
    "xtrain = tfidf_vec.transform(train_df.review)\n",
    "xtest = tfidf_vec.transform(test_df.review)\n",
    "\n",
    "model = lgb.LGBMClassifier(device_type='gpu')\n",
    "\n",
    "\n",
    "model.fit(xtrain, train_df.overall)\n",
    "\n",
    "preds = model.predict(xtest)\n",
    "# calculate accuracy\n",
    "accuracy = metrics.accuracy_score(test_df.overall, preds)\n",
    "\n",
    "confusion_matrix = metrics.confusion_matrix(preds, test_df.overall)\n",
    "        \n",
    "sns.heatmap(confusion_matrix, annot=True)\n",
    "joblib.dump(model,\"lgbmclf_1.pkl\" )\n",
    "joblib.dump(tfidf_vec,\"tfidf_lgbm_1.pkl\")\n",
    "print(f\"Accuracy = {accuracy}\")\n",
    "print(\"\")\n"
   ]
  },
  {
   "cell_type": "code",
   "execution_count": null,
   "id": "48ab87f4",
   "metadata": {
    "papermill": {
     "duration": 0.005199,
     "end_time": "2022-02-17T12:37:24.706253",
     "exception": false,
     "start_time": "2022-02-17T12:37:24.701054",
     "status": "completed"
    },
    "tags": []
   },
   "outputs": [],
   "source": []
  }
 ],
 "metadata": {
  "kernelspec": {
   "display_name": "Python 3",
   "language": "python",
   "name": "python3"
  },
  "language_info": {
   "codemirror_mode": {
    "name": "ipython",
    "version": 3
   },
   "file_extension": ".py",
   "mimetype": "text/x-python",
   "name": "python",
   "nbconvert_exporter": "python",
   "pygments_lexer": "ipython3",
   "version": "3.7.12"
  },
  "papermill": {
   "default_parameters": {},
   "duration": 199.637874,
   "end_time": "2022-02-17T12:37:25.922814",
   "environment_variables": {},
   "exception": null,
   "input_path": "__notebook__.ipynb",
   "output_path": "__notebook__.ipynb",
   "parameters": {},
   "start_time": "2022-02-17T12:34:06.284940",
   "version": "2.3.3"
  }
 },
 "nbformat": 4,
 "nbformat_minor": 5
}
