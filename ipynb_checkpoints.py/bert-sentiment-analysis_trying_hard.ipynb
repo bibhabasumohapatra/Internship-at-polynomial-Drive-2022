{
 "cells": [
  {
   "cell_type": "code",
   "execution_count": 1,
   "metadata": {
    "_cell_guid": "b1076dfc-b9ad-4769-8c92-a6c4dae69d19",
    "_uuid": "8f2839f25d086af736a60e9eeb907d3b93b6e0e5",
    "execution": {
     "iopub.execute_input": "2022-02-17T08:41:56.406873Z",
     "iopub.status.busy": "2022-02-17T08:41:56.405998Z",
     "iopub.status.idle": "2022-02-17T08:42:04.563230Z",
     "shell.execute_reply": "2022-02-17T08:42:04.562037Z"
    },
    "papermill": {
     "duration": 8.176553,
     "end_time": "2022-02-17T08:42:04.563362",
     "exception": false,
     "start_time": "2022-02-17T08:41:56.386809",
     "status": "completed"
    },
    "tags": []
   },
   "outputs": [
    {
     "name": "stderr",
     "output_type": "stream",
     "text": [
      "\u001b[34m\u001b[1mwandb\u001b[0m: \u001b[33mWARNING\u001b[0m W&B installed but not logged in.  Run `wandb login` or set the WANDB_API_KEY env variable.\n"
     ]
    }
   ],
   "source": [
    "import os\n",
    "import numpy as np \n",
    "import pandas as pd \n",
    "import torch\n",
    "import torch.nn as nn\n",
    "import transformers\n",
    "from transformers import AdamW\n",
    "from transformers import get_linear_schedule_with_warmup\n",
    "from sklearn import model_selection\n",
    "from sklearn import metrics\n",
    "import seaborn as sns\n",
    "import time\n",
    "from tqdm import tqdm"
   ]
  },
  {
   "cell_type": "markdown",
   "metadata": {
    "papermill": {
     "duration": 0.010077,
     "end_time": "2022-02-17T08:42:04.584732",
     "exception": false,
     "start_time": "2022-02-17T08:42:04.574655",
     "status": "completed"
    },
    "tags": []
   },
   "source": [
    "## Config"
   ]
  },
  {
   "cell_type": "code",
   "execution_count": 2,
   "metadata": {
    "_cell_guid": "79c7e3d0-c299-4dcb-8224-4455121ee9b0",
    "_uuid": "d629ff2d2480ee46fbb7e2d37f6b5fab8052498a",
    "execution": {
     "iopub.execute_input": "2022-02-17T08:42:04.612663Z",
     "iopub.status.busy": "2022-02-17T08:42:04.611761Z",
     "iopub.status.idle": "2022-02-17T08:42:04.669646Z",
     "shell.execute_reply": "2022-02-17T08:42:04.668759Z"
    },
    "papermill": {
     "duration": 0.074594,
     "end_time": "2022-02-17T08:42:04.669772",
     "exception": false,
     "start_time": "2022-02-17T08:42:04.595178",
     "status": "completed"
    },
    "tags": []
   },
   "outputs": [],
   "source": [
    "class config():\n",
    "    MAX_LEN = 512\n",
    "    TRAIN_BATCH_SIZE = 4\n",
    "    VALID_BATCH_SIZE = 4\n",
    "    EPOCHS = 5\n",
    "    BERT_PATH = '../input/bert-base-uncased'\n",
    "    MODEL_PATH = 'model.bin'\n",
    "    TRAINING_FILE = \"../input/amazon-dataset-csv-generator/PolynomialInternshipDrive2022.csv\"\n",
    "    TOKENIZER = transformers.BertTokenizer.from_pretrained(BERT_PATH, do_lower_case=True)"
   ]
  },
  {
   "cell_type": "markdown",
   "metadata": {
    "papermill": {
     "duration": 0.010307,
     "end_time": "2022-02-17T08:42:04.690999",
     "exception": false,
     "start_time": "2022-02-17T08:42:04.680692",
     "status": "completed"
    },
    "tags": []
   },
   "source": [
    "## Model"
   ]
  },
  {
   "cell_type": "code",
   "execution_count": 3,
   "metadata": {
    "execution": {
     "iopub.execute_input": "2022-02-17T08:42:04.721121Z",
     "iopub.status.busy": "2022-02-17T08:42:04.719958Z",
     "iopub.status.idle": "2022-02-17T08:42:04.723695Z",
     "shell.execute_reply": "2022-02-17T08:42:04.723193Z"
    },
    "papermill": {
     "duration": 0.022361,
     "end_time": "2022-02-17T08:42:04.723806",
     "exception": false,
     "start_time": "2022-02-17T08:42:04.701445",
     "status": "completed"
    },
    "tags": []
   },
   "outputs": [],
   "source": [
    "class BERTBaseUncased(nn.Module):\n",
    "    def __init__(self):\n",
    "        super(BERTBaseUncased, self).__init__()\n",
    "        self.bert       = transformers.BertModel.from_pretrained(config.BERT_PATH)\n",
    "        self.bert_drop  = nn.Dropout(0.3)\n",
    "        self.out        = nn.Linear(768, 1)\n",
    "\n",
    "    def forward(self, ids, mask, token_type_ids):\n",
    "        out1, out2 = self.bert(ids, attention_mask=mask, token_type_ids=token_type_ids)\n",
    "        bo         = self.bert_drop(out2)\n",
    "        output     = self.out(bo)\n",
    "        return output"
   ]
  },
  {
   "cell_type": "markdown",
   "metadata": {
    "papermill": {
     "duration": 0.010524,
     "end_time": "2022-02-17T08:42:04.744900",
     "exception": false,
     "start_time": "2022-02-17T08:42:04.734376",
     "status": "completed"
    },
    "tags": []
   },
   "source": [
    "## Dataset or DataLoader"
   ]
  },
  {
   "cell_type": "code",
   "execution_count": 4,
   "metadata": {
    "execution": {
     "iopub.execute_input": "2022-02-17T08:42:04.778456Z",
     "iopub.status.busy": "2022-02-17T08:42:04.777480Z",
     "iopub.status.idle": "2022-02-17T08:42:04.781393Z",
     "shell.execute_reply": "2022-02-17T08:42:04.780687Z"
    },
    "papermill": {
     "duration": 0.025778,
     "end_time": "2022-02-17T08:42:04.781504",
     "exception": false,
     "start_time": "2022-02-17T08:42:04.755726",
     "status": "completed"
    },
    "tags": []
   },
   "outputs": [],
   "source": [
    "class BERTDataset:\n",
    "    def __init__(self,  review, target):\n",
    "        self.review    = review\n",
    "        self.target    = target\n",
    "        self.tokenizer = config.TOKENIZER\n",
    "        self.max_len   = config.MAX_LEN\n",
    "\n",
    "    def __len__(self):\n",
    "        return len(self.review)\n",
    "\n",
    "    def __getitem__(self, item):\n",
    "        review = str(self.review[item])\n",
    "        review = ' '.join(review.split())\n",
    "\n",
    "        inputs = self.tokenizer.encode_plus(review, None, add_special_tokens=True, max_length=self.max_len, pad_to_max_length=True)\n",
    "        ids = inputs['input_ids']\n",
    "        mask = inputs['attention_mask']\n",
    "        token_type_ids = inputs['token_type_ids']\n",
    "\n",
    "        return {\n",
    "            'ids': torch.tensor(ids, dtype=torch.long),\n",
    "            'mask': torch.tensor(mask, dtype=torch.long),\n",
    "            'token_type_ids': torch.tensor(token_type_ids, dtype=torch.long),\n",
    "            'targets': torch.tensor(self.target[item], dtype=torch.float)\n",
    "        }"
   ]
  },
  {
   "cell_type": "markdown",
   "metadata": {
    "papermill": {
     "duration": 0.010701,
     "end_time": "2022-02-17T08:42:04.803337",
     "exception": false,
     "start_time": "2022-02-17T08:42:04.792636",
     "status": "completed"
    },
    "tags": []
   },
   "source": [
    "## Engine"
   ]
  },
  {
   "cell_type": "code",
   "execution_count": 5,
   "metadata": {
    "execution": {
     "iopub.execute_input": "2022-02-17T08:42:04.830416Z",
     "iopub.status.busy": "2022-02-17T08:42:04.829425Z",
     "iopub.status.idle": "2022-02-17T08:42:04.832609Z",
     "shell.execute_reply": "2022-02-17T08:42:04.833251Z"
    },
    "papermill": {
     "duration": 0.019282,
     "end_time": "2022-02-17T08:42:04.833382",
     "exception": false,
     "start_time": "2022-02-17T08:42:04.814100",
     "status": "completed"
    },
    "tags": []
   },
   "outputs": [],
   "source": [
    "def loss_fn(outputs, targets):\n",
    "    return  nn.CrossEntropyLoss()(outputs, targets.view(-1, 1))"
   ]
  },
  {
   "cell_type": "code",
   "execution_count": 6,
   "metadata": {
    "execution": {
     "iopub.execute_input": "2022-02-17T08:42:04.865671Z",
     "iopub.status.busy": "2022-02-17T08:42:04.864679Z",
     "iopub.status.idle": "2022-02-17T08:42:04.868337Z",
     "shell.execute_reply": "2022-02-17T08:42:04.867625Z"
    },
    "papermill": {
     "duration": 0.024493,
     "end_time": "2022-02-17T08:42:04.868442",
     "exception": false,
     "start_time": "2022-02-17T08:42:04.843949",
     "status": "completed"
    },
    "tags": []
   },
   "outputs": [],
   "source": [
    "def train_fn(data_loader, model, optimizer, device, scheduler):\n",
    "    model.train()\n",
    "\n",
    "    for bi, d in tqdm(enumerate(data_loader), total=len(data_loader)):\n",
    "        ids = d['ids']\n",
    "        token_type_ids = d['token_type_ids']\n",
    "        mask = d['mask']\n",
    "        targets = d['targets']\n",
    "\n",
    "        ids = ids.to(device, dtype=torch.long)\n",
    "        token_type_ids = token_type_ids.to(device, dtype=torch.long)\n",
    "        mask = mask.to(device, dtype=torch.long)\n",
    "        targets = targets.to(device, dtype=torch.float)\n",
    "\n",
    "        optimizer.zero_grad()\n",
    "        outputs = model(ids=ids, mask=mask, token_type_ids=token_type_ids)\n",
    "\n",
    "        loss = loss_fn(outputs, targets)\n",
    "        loss.backward()\n",
    "\n",
    "        optimizer.step()\n",
    "        scheduler.step()"
   ]
  },
  {
   "cell_type": "code",
   "execution_count": 7,
   "metadata": {
    "execution": {
     "iopub.execute_input": "2022-02-17T08:42:04.902125Z",
     "iopub.status.busy": "2022-02-17T08:42:04.898844Z",
     "iopub.status.idle": "2022-02-17T08:42:04.905752Z",
     "shell.execute_reply": "2022-02-17T08:42:04.905121Z"
    },
    "papermill": {
     "duration": 0.026419,
     "end_time": "2022-02-17T08:42:04.905897",
     "exception": false,
     "start_time": "2022-02-17T08:42:04.879478",
     "status": "completed"
    },
    "tags": []
   },
   "outputs": [],
   "source": [
    "def eval_fn(data_loader, model, device):\n",
    "    model.eval()\n",
    "    fin_targets = []\n",
    "    fin_outputs = []\n",
    "\n",
    "    with torch.no_grad():\n",
    "        for bi, d in tqdm(enumerate(data_loader), total=len(data_loader)):\n",
    "            ids            = d['ids']\n",
    "            token_type_ids = d['token_type_ids']\n",
    "            mask           = d['mask']\n",
    "            targets        = d['targets']\n",
    "\n",
    "            ids            = ids.to(device, dtype=torch.long)\n",
    "            token_type_ids = token_type_ids.to(device, dtype=torch.long)\n",
    "            mask           = mask.to(device, dtype=torch.long)\n",
    "            targets        = targets.to(device, dtype=torch.float)\n",
    "\n",
    "            outputs = model(ids=ids, mask=mask, token_type_ids=token_type_ids)\n",
    "\n",
    "            fin_targets.extend(targets.cpu().detach().numpy().tolist())\n",
    "            fin_outputs.extend(torch.sigmoid(outputs).cpu().detach().numpy().tolist())\n",
    "\n",
    "    return fin_outputs, fin_targets"
   ]
  },
  {
   "cell_type": "code",
   "execution_count": 8,
   "metadata": {
    "execution": {
     "iopub.execute_input": "2022-02-17T08:42:04.938701Z",
     "iopub.status.busy": "2022-02-17T08:42:04.937961Z",
     "iopub.status.idle": "2022-02-17T08:42:05.002817Z",
     "shell.execute_reply": "2022-02-17T08:42:05.001941Z"
    },
    "papermill": {
     "duration": 0.086028,
     "end_time": "2022-02-17T08:42:05.002996",
     "exception": false,
     "start_time": "2022-02-17T08:42:04.916968",
     "status": "completed"
    },
    "tags": []
   },
   "outputs": [],
   "source": [
    "dfx = pd.read_csv('../input/amazon-dataset-csv-generator/PolynomialInternshipDrive2022.csv', nrows = 10000)"
   ]
  },
  {
   "cell_type": "markdown",
   "metadata": {
    "papermill": {
     "duration": 0.011463,
     "end_time": "2022-02-17T08:42:05.027445",
     "exception": false,
     "start_time": "2022-02-17T08:42:05.015982",
     "status": "completed"
    },
    "tags": []
   },
   "source": [
    "## Train"
   ]
  },
  {
   "cell_type": "code",
   "execution_count": 9,
   "metadata": {
    "execution": {
     "iopub.execute_input": "2022-02-17T08:42:05.072765Z",
     "iopub.status.busy": "2022-02-17T08:42:05.065101Z",
     "iopub.status.idle": "2022-02-17T09:39:00.113376Z",
     "shell.execute_reply": "2022-02-17T09:39:00.112615Z"
    },
    "papermill": {
     "duration": 3415.074455,
     "end_time": "2022-02-17T09:39:00.113513",
     "exception": false,
     "start_time": "2022-02-17T08:42:05.039058",
     "status": "completed"
    },
    "tags": []
   },
   "outputs": [
    {
     "name": "stderr",
     "output_type": "stream",
     "text": [
      "100%|██████████| 2000/2000 [08:34<00:00,  3.89it/s]\n",
      "100%|██████████| 2000/2000 [02:38<00:00, 12.61it/s]\n"
     ]
    },
    {
     "name": "stdout",
     "output_type": "stream",
     "text": [
      "Accuracy score =  0.156875\n"
     ]
    },
    {
     "name": "stderr",
     "output_type": "stream",
     "text": [
      "100%|██████████| 2000/2000 [08:39<00:00,  3.85it/s]\n",
      "100%|██████████| 2000/2000 [02:39<00:00, 12.57it/s]\n"
     ]
    },
    {
     "name": "stdout",
     "output_type": "stream",
     "text": [
      "Accuracy score =  0.156875\n"
     ]
    },
    {
     "name": "stderr",
     "output_type": "stream",
     "text": [
      "100%|██████████| 2000/2000 [08:42<00:00,  3.82it/s]\n",
      "100%|██████████| 2000/2000 [02:39<00:00, 12.53it/s]\n"
     ]
    },
    {
     "name": "stdout",
     "output_type": "stream",
     "text": [
      "Accuracy score =  0.156875\n"
     ]
    },
    {
     "name": "stderr",
     "output_type": "stream",
     "text": [
      "100%|██████████| 2000/2000 [08:41<00:00,  3.83it/s]\n",
      "100%|██████████| 2000/2000 [02:38<00:00, 12.60it/s]\n"
     ]
    },
    {
     "name": "stdout",
     "output_type": "stream",
     "text": [
      "Accuracy score =  0.156875\n"
     ]
    },
    {
     "name": "stderr",
     "output_type": "stream",
     "text": [
      "100%|██████████| 2000/2000 [08:43<00:00,  3.82it/s]\n",
      "100%|██████████| 2000/2000 [02:39<00:00, 12.54it/s]\n"
     ]
    },
    {
     "name": "stdout",
     "output_type": "stream",
     "text": [
      "Accuracy score =  0.156875\n"
     ]
    },
    {
     "data": {
      "image/png": "[encoded data removed]",
      "text/plain": [
       "<Figure size 432x288 with 6 Axes>"
      ]
     },
     "metadata": {
      "needs_background": "light"
     },
     "output_type": "display_data"
    }
   ],
   "source": [
    "\n",
    "\n",
    "df_train, df_valid = model_selection.train_test_split(dfx, test_size=0.2, random_state=42, stratify=dfx.overall.values)\n",
    "df_train = df_train.reset_index(drop=True)\n",
    "df_valid = df_valid.reset_index(drop=True)\n",
    "\n",
    "train_dataset = BERTDataset(\n",
    "    review=df_train.review.values,\n",
    "    target=df_train.overall.values\n",
    ")\n",
    "\n",
    "train_data_loader = torch.utils.data.DataLoader(\n",
    "    train_dataset,\n",
    "    batch_size=config.TRAIN_BATCH_SIZE,\n",
    "    num_workers=4 # (4) in windows gotta be 0\n",
    ")\n",
    "\n",
    "valid_dataset = BERTDataset(\n",
    "    review=df_valid.review.values,\n",
    "    target=df_valid.overall.values\n",
    ")\n",
    "\n",
    "valid_data_loader = torch.utils.data.DataLoader(\n",
    "    train_dataset,\n",
    "    batch_size=config.VALID_BATCH_SIZE,\n",
    "    num_workers=1 # (1)\n",
    ")\n",
    "\n",
    "device = torch.device('cuda')\n",
    "model = BERTBaseUncased()\n",
    "model.to(device)\n",
    "\n",
    "param_optimizer = list(model.named_parameters())\n",
    "no_decay = ['bias', 'LayerNorm.bias', 'LayerNorm.weight']\n",
    "optimizer_parameters = [\n",
    "    {'params': [p for n, p in param_optimizer if not any(nd in n for nd in no_decay)], 'weight_decay': 0.001},\n",
    "    {'params': [p for n, p in param_optimizer if any(nd in n for nd in no_decay)], 'weight_decay': 0.0}\n",
    "]\n",
    "\n",
    "num_train_steps = int(len(df_train) / config.TRAIN_BATCH_SIZE * config.EPOCHS)\n",
    "optimizer = AdamW(optimizer_parameters, lr=3e-5)\n",
    "scheduler = get_linear_schedule_with_warmup(\n",
    "    optimizer,\n",
    "    num_warmup_steps=0,\n",
    "    num_training_steps=num_train_steps\n",
    "\n",
    ")\n",
    "\n",
    "\n",
    "best_acc = 0\n",
    "\n",
    "for epoch in range(config.EPOCHS):\n",
    "    train_fn(train_data_loader, model, optimizer, device, scheduler)\n",
    "    outputs, targets = eval_fn(valid_data_loader, model, device)\n",
    "    outputs = np.array(outputs) >= 0.5\n",
    "\n",
    "    acc = metrics.accuracy_score(targets, outputs) \n",
    "    print('Accuracy score = ', acc)\n",
    "    confusion_matrix = metrics.confusion_matrix(outputs, targets)\n",
    "\n",
    "    sns.heatmap(confusion_matrix, annot=True)\n",
    "    if acc > best_acc:\n",
    "        torch.save(model.state_dict(), config.MODEL_PATH)\n",
    "        best_acc = acc\n",
    "\n"
   ]
  },
  {
   "cell_type": "code",
   "execution_count": null,
   "metadata": {
    "papermill": {
     "duration": 5.289785,
     "end_time": "2022-02-17T09:39:10.980304",
     "exception": false,
     "start_time": "2022-02-17T09:39:05.690519",
     "status": "completed"
    },
    "tags": []
   },
   "outputs": [],
   "source": []
  }
 ],
 "metadata": {
  "kernelspec": {
   "display_name": "Python 3",
   "language": "python",
   "name": "python3"
  },
  "language_info": {
   "codemirror_mode": {
    "name": "ipython",
    "version": 3
   },
   "file_extension": ".py",
   "mimetype": "text/x-python",
   "name": "python",
   "nbconvert_exporter": "python",
   "pygments_lexer": "ipython3",
   "version": "3.7.6"
  },
  "papermill": {
   "duration": 3446.386528,
   "end_time": "2022-02-17T09:39:18.398651",
   "environment_variables": {},
   "exception": null,
   "input_path": "__notebook__.ipynb",
   "output_path": "__notebook__.ipynb",
   "parameters": {},
   "start_time": "2022-02-17T08:41:52.012123",
   "version": "2.1.0"
  }
 },
 "nbformat": 4,
 "nbformat_minor": 4
}
