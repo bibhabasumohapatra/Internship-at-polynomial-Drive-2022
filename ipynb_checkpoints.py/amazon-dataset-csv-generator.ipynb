{
 "cells": [
  {
   "cell_type": "code",
   "execution_count": 1,
   "id": "08ff2cc0",
   "metadata": {
    "_cell_guid": "b1076dfc-b9ad-4769-8c92-a6c4dae69d19",
    "_uuid": "8f2839f25d086af736a60e9eeb907d3b93b6e0e5",
    "execution": {
     "iopub.execute_input": "2022-02-17T04:47:43.693616Z",
     "iopub.status.busy": "2022-02-17T04:47:43.692615Z",
     "iopub.status.idle": "2022-02-17T04:47:43.695882Z",
     "shell.execute_reply": "2022-02-17T04:47:43.696415Z",
     "shell.execute_reply.started": "2022-02-16T10:54:15.116657Z"
    },
    "papermill": {
     "duration": 0.021353,
     "end_time": "2022-02-17T04:47:43.696737",
     "exception": false,
     "start_time": "2022-02-17T04:47:43.675384",
     "status": "completed"
    },
    "tags": []
   },
   "outputs": [],
   "source": [
    "import json\n",
    "import csv\n",
    "import pandas as pd\n",
    "import numpy as np"
   ]
  },
  {
   "cell_type": "code",
   "execution_count": 2,
   "id": "2f8b7ef9",
   "metadata": {
    "execution": {
     "iopub.execute_input": "2022-02-17T04:47:43.715874Z",
     "iopub.status.busy": "2022-02-17T04:47:43.711716Z",
     "iopub.status.idle": "2022-02-17T04:52:47.756350Z",
     "shell.execute_reply": "2022-02-17T04:52:47.756947Z",
     "shell.execute_reply.started": "2022-02-16T09:33:42.764774Z"
    },
    "papermill": {
     "duration": 304.054162,
     "end_time": "2022-02-17T04:52:47.757208",
     "exception": false,
     "start_time": "2022-02-17T04:47:43.703046",
     "status": "completed"
    },
    "tags": []
   },
   "outputs": [
    {
     "name": "stdout",
     "output_type": "stream",
     "text": [
      "Done\n"
     ]
    }
   ],
   "source": [
    "input_file = \"../input/cell-phones-and-accessories/Cell_Phones_and_Accessories.json\"\n",
    "input_json = open(input_file, \"r\", encoding=\"utf-8\")\n",
    "\n",
    "output_file = \"Cell_Phones_and_Accessories.csv\"\n",
    "with open(output_file, \"w\", encoding=\"utf-8\") as output_csv:\n",
    "    csv_writer = csv.writer(output_csv)\n",
    "    flag = 0\n",
    "    for line in input_json.readlines():\n",
    "        dic = json.loads(line)\n",
    "        # writing headline in the beginning\n",
    "        if flag == 0:\n",
    "            csv_writer.writerow(dic)\n",
    "            flag = 1\n",
    "        csv_writer.writerow(dic.values())\n",
    "\n",
    "print(\"Done\")"
   ]
  },
  {
   "cell_type": "code",
   "execution_count": 3,
   "id": "3dbb367a",
   "metadata": {
    "execution": {
     "iopub.execute_input": "2022-02-17T04:52:47.781451Z",
     "iopub.status.busy": "2022-02-17T04:52:47.780832Z",
     "iopub.status.idle": "2022-02-17T04:53:45.166587Z",
     "shell.execute_reply": "2022-02-17T04:53:45.167155Z"
    },
    "papermill": {
     "duration": 57.403907,
     "end_time": "2022-02-17T04:53:45.167356",
     "exception": false,
     "start_time": "2022-02-17T04:52:47.763449",
     "status": "completed"
    },
    "tags": []
   },
   "outputs": [
    {
     "name": "stderr",
     "output_type": "stream",
     "text": [
      "/opt/conda/lib/python3.7/site-packages/IPython/core/interactiveshell.py:3457: DtypeWarning: Columns (0,1,8) have mixed types.Specify dtype option on import or set low_memory=False.\n",
      "  exec(code_obj, self.user_global_ns, self.user_ns)\n"
     ]
    }
   ],
   "source": [
    "data =pd.read_csv('Cell_Phones_and_Accessories.csv',on_bad_lines='skip')\n",
    "data = data.drop(columns=['reviewTime','reviewerID','asin','reviewerName','unixReviewTime'])"
   ]
  },
  {
   "cell_type": "code",
   "execution_count": 4,
   "id": "95c0def2",
   "metadata": {
    "execution": {
     "iopub.execute_input": "2022-02-17T04:53:45.193065Z",
     "iopub.status.busy": "2022-02-17T04:53:45.184099Z",
     "iopub.status.idle": "2022-02-17T04:54:11.352714Z",
     "shell.execute_reply": "2022-02-17T04:54:11.352077Z"
    },
    "papermill": {
     "duration": 26.178325,
     "end_time": "2022-02-17T04:54:11.352870",
     "exception": false,
     "start_time": "2022-02-17T04:53:45.174545",
     "status": "completed"
    },
    "tags": []
   },
   "outputs": [],
   "source": [
    "data['overall'] = data['overall'].astype(str)\n",
    "\n",
    "data = data.drop(data[data['verified'] == 'False'].index,)\n",
    "data['review']=data['reviewText']+data['summary']\n",
    "data = data.drop(columns=['verified','reviewText','summary'])\n",
    "\n",
    "data = data[~data.overall.str.contains(\"\\[\")]\n",
    "data = data[~data.overall.str.contains(\"[a-zA-Z]\")]\n",
    "\n",
    "data.overall = data.overall.astype(np.float16)\n",
    "data.overall = data.overall.astype(np.int16)"
   ]
  },
  {
   "cell_type": "code",
   "execution_count": 5,
   "id": "8c1c6853",
   "metadata": {
    "execution": {
     "iopub.execute_input": "2022-02-17T04:54:11.372734Z",
     "iopub.status.busy": "2022-02-17T04:54:11.371991Z",
     "iopub.status.idle": "2022-02-17T04:55:30.957844Z",
     "shell.execute_reply": "2022-02-17T04:55:30.958440Z"
    },
    "papermill": {
     "duration": 79.598584,
     "end_time": "2022-02-17T04:55:30.958711",
     "exception": false,
     "start_time": "2022-02-17T04:54:11.360127",
     "status": "completed"
    },
    "tags": []
   },
   "outputs": [],
   "source": [
    "data.to_csv('PolynomialInternshipDrive2022.csv', index=False)"
   ]
  }
 ],
 "metadata": {
  "kernelspec": {
   "display_name": "Python 3",
   "language": "python",
   "name": "python3"
  },
  "language_info": {
   "codemirror_mode": {
    "name": "ipython",
    "version": 3
   },
   "file_extension": ".py",
   "mimetype": "text/x-python",
   "name": "python",
   "nbconvert_exporter": "python",
   "pygments_lexer": "ipython3",
   "version": "3.7.12"
  },
  "papermill": {
   "default_parameters": {},
   "duration": 480.114298,
   "end_time": "2022-02-17T04:55:33.677157",
   "environment_variables": {},
   "exception": null,
   "input_path": "__notebook__.ipynb",
   "output_path": "__notebook__.ipynb",
   "parameters": {},
   "start_time": "2022-02-17T04:47:33.562859",
   "version": "2.3.3"
  }
 },
 "nbformat": 4,
 "nbformat_minor": 5
}
